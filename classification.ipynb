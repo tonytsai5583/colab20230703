{
  "nbformat": 4,
  "nbformat_minor": 0,
  "metadata": {
    "colab": {
      "provenance": [],
      "authorship_tag": "ABX9TyP44WWLZxX36Jj0+tnzEqK+",
      "include_colab_link": true
    },
    "kernelspec": {
      "name": "python3",
      "display_name": "Python 3"
    },
    "language_info": {
      "name": "python"
    }
  },
  "cells": [
    {
      "cell_type": "markdown",
      "metadata": {
        "id": "view-in-github",
        "colab_type": "text"
      },
      "source": [
        "<a href=\"https://colab.research.google.com/github/tonytsai5583/colab20230703/blob/main/classification.ipynb\" target=\"_parent\"><img src=\"https://colab.research.google.com/assets/colab-badge.svg\" alt=\"Open In Colab\"/></a>"
      ]
    },
    {
      "cell_type": "code",
      "execution_count": null,
      "metadata": {
        "id": "YQPrt--z4Fqd"
      },
      "outputs": [],
      "source": [
        "import pandas as pd\n",
        "from sklearn.datasets import load_iris\n",
        "iris = load_iris()\n",
        "#Dataframe(2D) or Series(1D)\n",
        "data = pd.DataFrame(iris[\"data\"], columns=iris[\"feature_names\"])\n",
        "data[\"ans\"] = iris[\"target\"]\n",
        "data"
      ]
    },
    {
      "cell_type": "code",
      "source": [
        "from sklearn.model_selection import train_test_split\n",
        "x = data.drop(\"ans\",axis=1)\n",
        "y = data[\"ans\"]\n",
        "train_test_split(x,y,test_size=1)\n",
        "#[90% x, 10% y, 90% x, 10% y]\n"
      ],
      "metadata": {
        "colab": {
          "base_uri": "https://localhost:8080/"
        },
        "id": "Zyzj6WAD-Nia",
        "outputId": "ce807c22-359a-4510-97bc-8569ad8a956e"
      },
      "execution_count": 8,
      "outputs": [
        {
          "output_type": "execute_result",
          "data": {
            "text/plain": [
              "[     sepal length (cm)  sepal width (cm)  petal length (cm)  petal width (cm)\n",
              " 68                 6.2               2.2                4.5               1.5\n",
              " 79                 5.7               2.6                3.5               1.0\n",
              " 145                6.7               3.0                5.2               2.3\n",
              " 69                 5.6               2.5                3.9               1.1\n",
              " 1                  4.9               3.0                1.4               0.2\n",
              " ..                 ...               ...                ...               ...\n",
              " 52                 6.9               3.1                4.9               1.5\n",
              " 36                 5.5               3.5                1.3               0.2\n",
              " 17                 5.1               3.5                1.4               0.3\n",
              " 49                 5.0               3.3                1.4               0.2\n",
              " 113                5.7               2.5                5.0               2.0\n",
              " \n",
              " [149 rows x 4 columns],\n",
              "      sepal length (cm)  sepal width (cm)  petal length (cm)  petal width (cm)\n",
              " 141                6.9               3.1                5.1               2.3,\n",
              " 68     1\n",
              " 79     1\n",
              " 145    2\n",
              " 69     1\n",
              " 1      0\n",
              "       ..\n",
              " 52     1\n",
              " 36     0\n",
              " 17     0\n",
              " 49     0\n",
              " 113    2\n",
              " Name: ans, Length: 149, dtype: int64,\n",
              " 141    2\n",
              " Name: ans, dtype: int64]"
            ]
          },
          "metadata": {},
          "execution_count": 8
        }
      ]
    },
    {
      "cell_type": "code",
      "source": [],
      "metadata": {
        "id": "tuB5K93p-qFw"
      },
      "execution_count": null,
      "outputs": []
    }
  ]
}